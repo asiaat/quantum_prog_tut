{
 "cells": [
  {
   "cell_type": "markdown",
   "metadata": {},
   "source": [
    "## Basic Quantum"
   ]
  },
  {
   "cell_type": "code",
   "execution_count": 2,
   "metadata": {
    "collapsed": true,
    "jupyter": {
     "outputs_hidden": true,
     "source_hidden": true
    }
   },
   "outputs": [
    {
     "name": "stdout",
     "output_type": "stream",
     "text": [
      "Collecting projectq\n",
      "  Downloading projectq-0.5.0.tar.gz (217 kB)\n",
      "\u001b[K     |████████████████████████████████| 217 kB 828 kB/s eta 0:00:01\n",
      "\u001b[?25hRequirement already satisfied: numpy in /home/malle/anaconda3/lib/python3.7/site-packages (from projectq) (1.18.1)\n",
      "Requirement already satisfied: future in /home/malle/anaconda3/lib/python3.7/site-packages (from projectq) (0.18.2)\n",
      "Requirement already satisfied: pytest>=3.1 in /home/malle/anaconda3/lib/python3.7/site-packages (from projectq) (5.3.5)\n",
      "Requirement already satisfied: pybind11>=2.2.3 in /home/malle/anaconda3/lib/python3.7/site-packages (from projectq) (2.5.0)\n",
      "Requirement already satisfied: requests in /home/malle/anaconda3/lib/python3.7/site-packages (from projectq) (2.23.0)\n",
      "Requirement already satisfied: scipy in /home/malle/anaconda3/lib/python3.7/site-packages (from projectq) (1.4.1)\n",
      "Requirement already satisfied: networkx in /home/malle/anaconda3/lib/python3.7/site-packages (from projectq) (2.4)\n",
      "Requirement already satisfied: matplotlib>=2.2.3 in /home/malle/anaconda3/lib/python3.7/site-packages (from projectq) (3.1.3)\n",
      "Requirement already satisfied: py>=1.5.0 in /home/malle/anaconda3/lib/python3.7/site-packages (from pytest>=3.1->projectq) (1.8.1)\n",
      "Requirement already satisfied: packaging in /home/malle/anaconda3/lib/python3.7/site-packages (from pytest>=3.1->projectq) (20.1)\n",
      "Requirement already satisfied: attrs>=17.4.0 in /home/malle/anaconda3/lib/python3.7/site-packages (from pytest>=3.1->projectq) (19.3.0)\n",
      "Requirement already satisfied: more-itertools>=4.0.0 in /home/malle/anaconda3/lib/python3.7/site-packages (from pytest>=3.1->projectq) (8.2.0)\n",
      "Requirement already satisfied: pluggy<1.0,>=0.12 in /home/malle/anaconda3/lib/python3.7/site-packages (from pytest>=3.1->projectq) (0.13.1)\n",
      "Requirement already satisfied: wcwidth in /home/malle/anaconda3/lib/python3.7/site-packages (from pytest>=3.1->projectq) (0.1.8)\n",
      "Requirement already satisfied: importlib-metadata>=0.12 in /home/malle/anaconda3/lib/python3.7/site-packages (from pytest>=3.1->projectq) (1.5.0)\n",
      "Requirement already satisfied: certifi>=2017.4.17 in /home/malle/anaconda3/lib/python3.7/site-packages (from requests->projectq) (2020.4.5.1)\n",
      "Requirement already satisfied: chardet<4,>=3.0.2 in /home/malle/anaconda3/lib/python3.7/site-packages (from requests->projectq) (3.0.4)\n",
      "Requirement already satisfied: urllib3!=1.25.0,!=1.25.1,<1.26,>=1.21.1 in /home/malle/anaconda3/lib/python3.7/site-packages (from requests->projectq) (1.25.8)\n",
      "Requirement already satisfied: idna<3,>=2.5 in /home/malle/anaconda3/lib/python3.7/site-packages (from requests->projectq) (2.9)\n",
      "Requirement already satisfied: decorator>=4.3.0 in /home/malle/anaconda3/lib/python3.7/site-packages (from networkx->projectq) (4.4.1)\n",
      "Requirement already satisfied: pyparsing!=2.0.4,!=2.1.2,!=2.1.6,>=2.0.1 in /home/malle/anaconda3/lib/python3.7/site-packages (from matplotlib>=2.2.3->projectq) (2.4.6)\n",
      "Requirement already satisfied: cycler>=0.10 in /home/malle/anaconda3/lib/python3.7/site-packages (from matplotlib>=2.2.3->projectq) (0.10.0)\n",
      "Requirement already satisfied: kiwisolver>=1.0.1 in /home/malle/anaconda3/lib/python3.7/site-packages (from matplotlib>=2.2.3->projectq) (1.1.0)\n",
      "Requirement already satisfied: python-dateutil>=2.1 in /home/malle/anaconda3/lib/python3.7/site-packages (from matplotlib>=2.2.3->projectq) (2.8.1)\n",
      "Requirement already satisfied: six in /home/malle/anaconda3/lib/python3.7/site-packages (from packaging->pytest>=3.1->projectq) (1.14.0)\n",
      "Requirement already satisfied: zipp>=0.5 in /home/malle/anaconda3/lib/python3.7/site-packages (from importlib-metadata>=0.12->pytest>=3.1->projectq) (2.2.0)\n",
      "Requirement already satisfied: setuptools in /home/malle/anaconda3/lib/python3.7/site-packages (from kiwisolver>=1.0.1->matplotlib>=2.2.3->projectq) (45.2.0.post20200210)\n",
      "Building wheels for collected packages: projectq\n",
      "  Building wheel for projectq (setup.py) ... \u001b[?25ldone\n",
      "\u001b[?25h  Created wheel for projectq: filename=projectq-0.5.0-cp37-cp37m-linux_x86_64.whl size=1648161 sha256=85b55e04e34b64b93f565c866929e9999e6f0c79c714124952cbcf71b633d5e5\n",
      "  Stored in directory: /home/malle/.cache/pip/wheels/ba/16/9b/aa69ec293701be124e8889ff2ccc0bd5c4bc0f945bf5eea6a9\n",
      "Successfully built projectq\n",
      "Installing collected packages: projectq\n",
      "Successfully installed projectq-0.5.0\n"
     ]
    }
   ],
   "source": [
    "!pip install projectq"
   ]
  },
  {
   "cell_type": "code",
   "execution_count": 9,
   "metadata": {},
   "outputs": [],
   "source": [
    "from projectq import MainEngine  # import the main compiler engine\n",
    "from projectq.ops import H, Measure  # import the operations we want to perform (Hadamard and measurement)\n",
    "\n",
    "eng = MainEngine()  # create a default compiler (the back-end is a simulator)\n",
    "qubit = eng.allocate_qubit()  # allocate 1 qubit\n"
   ]
  },
  {
   "cell_type": "code",
   "execution_count": 10,
   "metadata": {},
   "outputs": [
    {
     "name": "stdout",
     "output_type": "stream",
     "text": [
      "Measured 1\n"
     ]
    }
   ],
   "source": [
    "H       | qubit  # apply a Hadamard gate\n",
    "Measure | qubit  # measure the qubit\n",
    "\n",
    "eng.flush()  # flush all gates (and execute measurements)\n",
    "print(\"Measured {}\".format(int(qubit)))  # output measurement result"
   ]
  },
  {
   "cell_type": "code",
   "execution_count": null,
   "metadata": {},
   "outputs": [],
   "source": []
  }
 ],
 "metadata": {
  "kernelspec": {
   "display_name": "Python 3",
   "language": "python",
   "name": "python3"
  },
  "language_info": {
   "codemirror_mode": {
    "name": "ipython",
    "version": 3
   },
   "file_extension": ".py",
   "mimetype": "text/x-python",
   "name": "python",
   "nbconvert_exporter": "python",
   "pygments_lexer": "ipython3",
   "version": "3.7.6"
  }
 },
 "nbformat": 4,
 "nbformat_minor": 4
}

{
 "cells": [
  {
   "cell_type": "markdown",
   "metadata": {},
   "source": [
    "## Basic Quantum"
   ]
  },
  {
   "cell_type": "code",
   "execution_count": 23,
   "metadata": {},
   "outputs": [],
   "source": [
    "from projectq import MainEngine  # import the main compiler engine\n",
    "from projectq.ops import H, Measure  # import the operations we want to perform (Hadamard and measurement)\n",
    "\n",
    "eng = MainEngine()  # create a default compiler (the back-end is a simulator)\n",
    "qubit = eng.allocate_qubit()  # allocate 1 qubit\n",
    "\n"
   ]
  },
  {
   "cell_type": "code",
   "execution_count": 26,
   "metadata": {},
   "outputs": [
    {
     "name": "stdout",
     "output_type": "stream",
     "text": [
      "Measured 1\n"
     ]
    }
   ],
   "source": [
    "H       | qubit  # apply a Hadamard gate\n",
    "Measure | qubit  # measure the qubit\n",
    "\n",
    "eng.flush()  # flush all gates (and execute measurements)\n",
    "print(\"Measured {}\".format(int(qubit)))  # output measurement result"
   ]
  },
  {
   "cell_type": "code",
   "execution_count": null,
   "metadata": {},
   "outputs": [],
   "source": []
  }
 ],
 "metadata": {
  "kernelspec": {
   "display_name": "Python 3",
   "language": "python",
   "name": "python3"
  },
  "language_info": {
   "codemirror_mode": {
    "name": "ipython",
    "version": 3
   },
   "file_extension": ".py",
   "mimetype": "text/x-python",
   "name": "python",
   "nbconvert_exporter": "python",
   "pygments_lexer": "ipython3",
   "version": "3.7.6"
  }
 },
 "nbformat": 4,
 "nbformat_minor": 4
}

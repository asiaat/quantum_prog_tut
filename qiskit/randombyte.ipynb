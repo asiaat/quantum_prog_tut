{
 "cells": [
  {
   "cell_type": "code",
   "execution_count": null,
   "metadata": {},
   "outputs": [],
   "source": [
    "## Random bytes"
   ]
  },
  {
   "cell_type": "code",
   "execution_count": 23,
   "metadata": {},
   "outputs": [],
   "source": [
    "from qiskit import(\n",
    "  QuantumCircuit,QuantumRegister,\n",
    "  execute,\n",
    "    ClassicalRegister,\n",
    "  Aer)\n",
    "from qiskit.visualization import plot_histogram\n",
    "\n",
    "# Use Aer's qasm_simulator\n",
    "simulator = Aer.get_backend('statevector_simulator')"
   ]
  },
  {
   "cell_type": "code",
   "execution_count": 24,
   "metadata": {},
   "outputs": [
    {
     "data": {
      "text/plain": [
       "<qiskit.circuit.instructionset.InstructionSet at 0x1a20ba2410>"
      ]
     },
     "execution_count": 24,
     "metadata": {},
     "output_type": "execute_result"
    }
   ],
   "source": [
    "q = QuantumRegister(8)\n",
    "c = ClassicalRegister(8)\n",
    "qc = QuantumCircuit(q, c)\n",
    "qc.h(q)\n",
    "#qc.h(q[1])\n",
    "qc.measure(q, c)"
   ]
  },
  {
   "cell_type": "code",
   "execution_count": 25,
   "metadata": {},
   "outputs": [
    {
     "data": {
      "text/html": [
       "<pre style=\"word-wrap: normal;white-space: pre;background: #fff0;line-height: 1.1;font-family: &quot;Courier New&quot;,Courier,monospace\">      ┌───┐┌─┐                     \n",
       "q6_0: ┤ H ├┤M├─────────────────────\n",
       "      ├───┤└╥┘┌─┐                  \n",
       "q6_1: ┤ H ├─╫─┤M├──────────────────\n",
       "      ├───┤ ║ └╥┘┌─┐               \n",
       "q6_2: ┤ H ├─╫──╫─┤M├───────────────\n",
       "      ├───┤ ║  ║ └╥┘┌─┐            \n",
       "q6_3: ┤ H ├─╫──╫──╫─┤M├────────────\n",
       "      ├───┤ ║  ║  ║ └╥┘┌─┐         \n",
       "q6_4: ┤ H ├─╫──╫──╫──╫─┤M├─────────\n",
       "      ├───┤ ║  ║  ║  ║ └╥┘┌─┐      \n",
       "q6_5: ┤ H ├─╫──╫──╫──╫──╫─┤M├──────\n",
       "      ├───┤ ║  ║  ║  ║  ║ └╥┘┌─┐   \n",
       "q6_6: ┤ H ├─╫──╫──╫──╫──╫──╫─┤M├───\n",
       "      ├───┤ ║  ║  ║  ║  ║  ║ └╥┘┌─┐\n",
       "q6_7: ┤ H ├─╫──╫──╫──╫──╫──╫──╫─┤M├\n",
       "      └───┘ ║  ║  ║  ║  ║  ║  ║ └╥┘\n",
       "c6_0: ══════╩══╬══╬══╬══╬══╬══╬══╬═\n",
       "               ║  ║  ║  ║  ║  ║  ║ \n",
       "c6_1: ═════════╩══╬══╬══╬══╬══╬══╬═\n",
       "                  ║  ║  ║  ║  ║  ║ \n",
       "c6_2: ════════════╩══╬══╬══╬══╬══╬═\n",
       "                     ║  ║  ║  ║  ║ \n",
       "c6_3: ═══════════════╩══╬══╬══╬══╬═\n",
       "                        ║  ║  ║  ║ \n",
       "c6_4: ══════════════════╩══╬══╬══╬═\n",
       "                           ║  ║  ║ \n",
       "c6_5: ═════════════════════╩══╬══╬═\n",
       "                              ║  ║ \n",
       "c6_6: ════════════════════════╩══╬═\n",
       "                                 ║ \n",
       "c6_7: ═══════════════════════════╩═\n",
       "                                   </pre>"
      ],
      "text/plain": [
       "      ┌───┐┌─┐                     \n",
       "q6_0: ┤ H ├┤M├─────────────────────\n",
       "      ├───┤└╥┘┌─┐                  \n",
       "q6_1: ┤ H ├─╫─┤M├──────────────────\n",
       "      ├───┤ ║ └╥┘┌─┐               \n",
       "q6_2: ┤ H ├─╫──╫─┤M├───────────────\n",
       "      ├───┤ ║  ║ └╥┘┌─┐            \n",
       "q6_3: ┤ H ├─╫──╫──╫─┤M├────────────\n",
       "      ├───┤ ║  ║  ║ └╥┘┌─┐         \n",
       "q6_4: ┤ H ├─╫──╫──╫──╫─┤M├─────────\n",
       "      ├───┤ ║  ║  ║  ║ └╥┘┌─┐      \n",
       "q6_5: ┤ H ├─╫──╫──╫──╫──╫─┤M├──────\n",
       "      ├───┤ ║  ║  ║  ║  ║ └╥┘┌─┐   \n",
       "q6_6: ┤ H ├─╫──╫──╫──╫──╫──╫─┤M├───\n",
       "      ├───┤ ║  ║  ║  ║  ║  ║ └╥┘┌─┐\n",
       "q6_7: ┤ H ├─╫──╫──╫──╫──╫──╫──╫─┤M├\n",
       "      └───┘ ║  ║  ║  ║  ║  ║  ║ └╥┘\n",
       "c6_0: ══════╩══╬══╬══╬══╬══╬══╬══╬═\n",
       "               ║  ║  ║  ║  ║  ║  ║ \n",
       "c6_1: ═════════╩══╬══╬══╬══╬══╬══╬═\n",
       "                  ║  ║  ║  ║  ║  ║ \n",
       "c6_2: ════════════╩══╬══╬══╬══╬══╬═\n",
       "                     ║  ║  ║  ║  ║ \n",
       "c6_3: ═══════════════╩══╬══╬══╬══╬═\n",
       "                        ║  ║  ║  ║ \n",
       "c6_4: ══════════════════╩══╬══╬══╬═\n",
       "                           ║  ║  ║ \n",
       "c6_5: ═════════════════════╩══╬══╬═\n",
       "                              ║  ║ \n",
       "c6_6: ════════════════════════╩══╬═\n",
       "                                 ║ \n",
       "c6_7: ═══════════════════════════╩═\n",
       "                                   "
      ]
     },
     "execution_count": 25,
     "metadata": {},
     "output_type": "execute_result"
    }
   ],
   "source": [
    "# Draw the circuit\n",
    "qc.draw()"
   ]
  },
  {
   "cell_type": "code",
   "execution_count": 26,
   "metadata": {},
   "outputs": [
    {
     "name": "stdout",
     "output_type": "stream",
     "text": [
      "\n",
      "Total count for 00 and 11 are: {'01110010': 1, '11100111': 1, '10001011': 1, '10011110': 1, '00000010': 1, '01101111': 1, '10111011': 1, '10001101': 1, '11100000': 1, '01110100': 1}\n"
     ]
    }
   ],
   "source": [
    "# Execute the circuit on the qasm simulator\n",
    "job = execute(qc, simulator, shots=10)\n",
    "\n",
    "# Grab results from the job\n",
    "result = job.result()\n",
    "\n",
    "# Returns counts\n",
    "counts = result.get_counts(qc)\n",
    "print(\"\\nTotal count for 00 and 11 are:\",counts)"
   ]
  },
  {
   "cell_type": "code",
   "execution_count": 22,
   "metadata": {},
   "outputs": [
    {
     "data": {
      "image/png": "[encoded data removed]",
      "text/plain": [
       "<Figure size 504x360 with 1 Axes>"
      ]
     },
     "execution_count": 22,
     "metadata": {},
     "output_type": "execute_result"
    }
   ],
   "source": [
    "# Plot a histogram\n",
    "plot_histogram(counts)"
   ]
  },
  {
   "cell_type": "code",
   "execution_count": null,
   "metadata": {},
   "outputs": [],
   "source": []
  },
  {
   "cell_type": "code",
   "execution_count": null,
   "metadata": {},
   "outputs": [],
   "source": []
  }
 ],
 "metadata": {
  "kernelspec": {
   "display_name": "Python 3",
   "language": "python",
   "name": "python3"
  },
  "language_info": {
   "codemirror_mode": {
    "name": "ipython",
    "version": 3
   },
   "file_extension": ".py",
   "mimetype": "text/x-python",
   "name": "python",
   "nbconvert_exporter": "python",
   "pygments_lexer": "ipython3",
   "version": "3.7.6"
  }
 },
 "nbformat": 4,
 "nbformat_minor": 4
}

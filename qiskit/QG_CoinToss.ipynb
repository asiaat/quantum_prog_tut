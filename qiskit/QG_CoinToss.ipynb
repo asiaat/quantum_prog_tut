{
 "cells": [
  {
   "cell_type": "code",
   "execution_count": 2,
   "metadata": {},
   "outputs": [],
   "source": [
    "from qiskit import *"
   ]
  },
  {
   "cell_type": "code",
   "execution_count": 3,
   "metadata": {},
   "outputs": [],
   "source": [
    "HEAD = 0\n",
    "TAIL = 1"
   ]
  },
  {
   "cell_type": "code",
   "execution_count": 4,
   "metadata": {},
   "outputs": [
    {
     "data": {
      "image/png": "[encoded data removed]",
      "text/plain": [
       "<Figure size 244.412x144.48 with 1 Axes>"
      ]
     },
     "execution_count": 4,
     "metadata": {},
     "output_type": "execute_result"
    }
   ],
   "source": [
    "q = QuantumRegister(1)\n",
    "c = ClassicalRegister(1)\n",
    "qc = QuantumCircuit(q, c)\n",
    "qc.h(q[0])\n",
    "qc.measure(q, c)\n",
    "qc.draw(output='mpl')"
   ]
  },
  {
   "cell_type": "code",
   "execution_count": 5,
   "metadata": {},
   "outputs": [],
   "source": [
    "simulator = Aer.get_backend('statevector_simulator')"
   ]
  },
  {
   "cell_type": "code",
   "execution_count": 10,
   "metadata": {},
   "outputs": [],
   "source": [
    "def toss_coin():\n",
    "    carray = []\n",
    "    \n",
    "    for i in range(3):\n",
    "        job    = execute(qc, simulator, shots=1)\n",
    "        result = job.result()\n",
    "        counts = result.get_counts(qc)\n",
    "        \n",
    "        for c in counts:\n",
    "            carray.append(int(c))\n",
    "    \n",
    "    return carray"
   ]
  },
  {
   "cell_type": "code",
   "execution_count": 78,
   "metadata": {},
   "outputs": [],
   "source": [
    "def play(_a1,_a2):\n",
    "            \n",
    "    # pl1 toss\n",
    "    res = toss_coin()\n",
    "    while ((res != _a1) and ( res != _a2)) :\n",
    "        res = toss_coin()\n",
    "        print(res)\n",
    "     \n",
    "    \n",
    "    return res\n",
    "    \n",
    "    \n",
    "        \n",
    "        \n",
    "    "
   ]
  },
  {
   "cell_type": "code",
   "execution_count": 79,
   "metadata": {},
   "outputs": [],
   "source": [
    "a1 = [0,1,1]\n",
    "a2 = [0,1,0]"
   ]
  },
  {
   "cell_type": "code",
   "execution_count": 85,
   "metadata": {},
   "outputs": [
    {
     "name": "stdout",
     "output_type": "stream",
     "text": [
      "[1, 1, 0]\n",
      "[1, 1, 1]\n",
      "[1, 1, 1]\n",
      "[0, 1, 1]\n",
      "You won [0, 1, 1]\n"
     ]
    }
   ],
   "source": [
    "\n",
    "res = play(a1,a2)\n",
    "if res == a1:\n",
    "    print(\"You won {}\".format(res))\n",
    "elif res == a2:\n",
    "    print(\"Quantum Computer won {}\".format(res))"
   ]
  },
  {
   "cell_type": "code",
   "execution_count": null,
   "metadata": {},
   "outputs": [],
   "source": []
  },
  {
   "cell_type": "code",
   "execution_count": null,
   "metadata": {},
   "outputs": [],
   "source": []
  }
 ],
 "metadata": {
  "kernelspec": {
   "display_name": "Python 3",
   "language": "python",
   "name": "python3"
  },
  "language_info": {
   "codemirror_mode": {
    "name": "ipython",
    "version": 3
   },
   "file_extension": ".py",
   "mimetype": "text/x-python",
   "name": "python",
   "nbconvert_exporter": "python",
   "pygments_lexer": "ipython3",
   "version": "3.7.6"
  }
 },
 "nbformat": 4,
 "nbformat_minor": 4
}

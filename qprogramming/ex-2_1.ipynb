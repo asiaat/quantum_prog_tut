{
 "cells": [
  {
   "cell_type": "markdown",
   "metadata": {},
   "source": [
    "### Programming Quantum Computers\n",
    "###   by Eric Johnston, Nic Harrigan and Mercedes Gimeno-Segovia\n",
    "###   O'Reilly Media\n",
    "\n",
    "#### More samples like this can be found at http://oreilly-qc.github.io\n",
    "\n",
    "## This sample generates a single random bit."
   ]
  },
  {
   "cell_type": "code",
   "execution_count": 2,
   "metadata": {
    "collapsed": true,
    "jupyter": {
     "outputs_hidden": true
    }
   },
   "outputs": [
    {
     "name": "stdout",
     "output_type": "stream",
     "text": [
      "Collecting qiskit\n",
      "  Downloading qiskit-0.19.2.tar.gz (3.9 kB)\n",
      "Collecting qiskit-terra==0.14.1\n",
      "  Downloading qiskit_terra-0.14.1-cp37-cp37m-macosx_10_9_x86_64.whl (6.0 MB)\n",
      "\u001b[K     |████████████████████████████████| 6.0 MB 699 kB/s eta 0:00:01\n",
      "\u001b[?25hCollecting qiskit-aer==0.5.1\n",
      "  Using cached qiskit_aer-0.5.1-cp37-cp37m-macosx_10_9_x86_64.whl (14.0 MB)\n",
      "Collecting qiskit-ibmq-provider==0.7.1\n",
      "  Downloading qiskit_ibmq_provider-0.7.1-py3-none-any.whl (155 kB)\n",
      "\u001b[K     |████████████████████████████████| 155 kB 1.8 MB/s eta 0:00:01\n",
      "\u001b[?25hCollecting qiskit-ignis==0.3.0\n",
      "  Using cached qiskit_ignis-0.3.0-py3-none-any.whl (172 kB)\n",
      "Collecting qiskit-aqua==0.7.1\n",
      "  Downloading qiskit_aqua-0.7.1-py3-none-any.whl (1.9 MB)\n",
      "\u001b[K     |████████████████████████████████| 1.9 MB 12.7 MB/s eta 0:00:01\n",
      "\u001b[?25hRequirement already satisfied: scipy>=1.4 in /Users/kaol01/opt/anaconda3/lib/python3.7/site-packages (from qiskit-terra==0.14.1->qiskit) (1.4.1)\n",
      "Requirement already satisfied: ply>=3.10 in /Users/kaol01/opt/anaconda3/lib/python3.7/site-packages (from qiskit-terra==0.14.1->qiskit) (3.11)\n",
      "Requirement already satisfied: networkx>=2.2; python_version > \"3.5\" in /Users/kaol01/opt/anaconda3/lib/python3.7/site-packages (from qiskit-terra==0.14.1->qiskit) (2.4)\n",
      "Collecting retworkx>=0.3.2\n",
      "  Downloading retworkx-0.3.4-cp37-cp37m-macosx_10_9_x86_64.whl (230 kB)\n",
      "\u001b[K     |████████████████████████████████| 230 kB 19.7 MB/s eta 0:00:01\n",
      "\u001b[?25hCollecting fastjsonschema>=2.10\n",
      "  Using cached fastjsonschema-2.14.4-py3-none-any.whl (21 kB)\n",
      "Processing /Users/kaol01/Library/Caches/pip/wheels/07/27/db/1222c80eb1e431f3d2199c12569cb1cac60f562a451fe30479/python_constraint-1.4.0-py2.py3-none-any.whl\n",
      "Requirement already satisfied: jsonschema>=2.6 in /Users/kaol01/opt/anaconda3/lib/python3.7/site-packages (from qiskit-terra==0.14.1->qiskit) (3.2.0)\n",
      "Processing /Users/kaol01/Library/Caches/pip/wheels/6c/8b/16/ef4ebfaa9efaf04fbbb9e9cfc997811b74ba691081630deb0f/marshmallow_polyfield-5.9-py3-none-any.whl\n",
      "Processing /Users/kaol01/Library/Caches/pip/wheels/a4/61/fd/c57e374e580aa78a45ed78d5859b3a44436af17e22ca53284f/dill-0.3.1.1-py3-none-any.whl\n",
      "Requirement already satisfied: sympy>=1.3 in /Users/kaol01/opt/anaconda3/lib/python3.7/site-packages (from qiskit-terra==0.14.1->qiskit) (1.5.1)\n",
      "Requirement already satisfied: marshmallow<4,>=3 in /Users/kaol01/opt/anaconda3/lib/python3.7/site-packages (from qiskit-terra==0.14.1->qiskit) (3.6.0)\n",
      "Requirement already satisfied: numpy>=1.17 in /Users/kaol01/opt/anaconda3/lib/python3.7/site-packages (from qiskit-terra==0.14.1->qiskit) (1.18.1)\n",
      "Requirement already satisfied: python-dateutil>=2.8.0 in /Users/kaol01/opt/anaconda3/lib/python3.7/site-packages (from qiskit-terra==0.14.1->qiskit) (2.8.1)\n",
      "Requirement already satisfied: psutil>=5 in /Users/kaol01/opt/anaconda3/lib/python3.7/site-packages (from qiskit-terra==0.14.1->qiskit) (5.6.7)\n",
      "Requirement already satisfied: cython>=0.27.1 in /Users/kaol01/opt/anaconda3/lib/python3.7/site-packages (from qiskit-aer==0.5.1->qiskit) (0.29.15)\n",
      "Requirement already satisfied: pybind11>=2.4 in /Users/kaol01/opt/anaconda3/lib/python3.7/site-packages (from qiskit-aer==0.5.1->qiskit) (2.5.0)\n",
      "Collecting websockets<8,>=7\n",
      "  Using cached websockets-7.0-cp37-cp37m-macosx_10_6_intel.whl (57 kB)\n",
      "Requirement already satisfied: requests>=2.19 in /Users/kaol01/opt/anaconda3/lib/python3.7/site-packages (from qiskit-ibmq-provider==0.7.1->qiskit) (2.22.0)\n",
      "Collecting requests-ntlm>=1.1.0\n",
      "  Using cached requests_ntlm-1.1.0-py2.py3-none-any.whl (5.7 kB)\n",
      "Collecting nest-asyncio!=1.1.0,>=1.0.0\n",
      "  Downloading nest_asyncio-1.3.3-py3-none-any.whl (4.7 kB)\n",
      "Requirement already satisfied: urllib3>=1.21.1 in /Users/kaol01/opt/anaconda3/lib/python3.7/site-packages (from qiskit-ibmq-provider==0.7.1->qiskit) (1.25.8)\n",
      "Requirement already satisfied: setuptools>=40.1.0 in /Users/kaol01/opt/anaconda3/lib/python3.7/site-packages (from qiskit-ignis==0.3.0->qiskit) (46.0.0.post20200309)\n",
      "Requirement already satisfied: scikit-learn>=0.20.0 in /Users/kaol01/opt/anaconda3/lib/python3.7/site-packages (from qiskit-aqua==0.7.1->qiskit) (0.22.1)\n",
      "Collecting pyscf; sys_platform != \"win32\"\n",
      "  Downloading pyscf-1.7.2-cp37-cp37m-macosx_10_13_x86_64.whl (14.3 MB)\n",
      "\u001b[K     |████████████████████████████████| 14.3 MB 3.8 MB/s eta 0:00:01\n",
      "\u001b[?25hRequirement already satisfied: h5py in /Users/kaol01/opt/anaconda3/lib/python3.7/site-packages (from qiskit-aqua==0.7.1->qiskit) (2.10.0)\n",
      "Collecting docplex\n",
      "  Downloading docplex-2.14.186.tar.gz (572 kB)\n",
      "\u001b[K     |████████████████████████████████| 572 kB 28.8 MB/s eta 0:00:01\n",
      "\u001b[?25hCollecting fastdtw\n",
      "  Using cached fastdtw-0.3.4-cp37-cp37m-macosx_10_14_x86_64.whl (103 kB)\n",
      "Collecting quandl\n",
      "  Using cached Quandl-3.5.0-py2.py3-none-any.whl (25 kB)\n",
      "Processing /Users/kaol01/Library/Caches/pip/wheels/78/55/c8/dc61e772445a566b7608a476d151e9dcaf4e092b01b0c4bc3c/dlx-1.0.4-py3-none-any.whl\n",
      "Requirement already satisfied: decorator>=4.3.0 in /Users/kaol01/opt/anaconda3/lib/python3.7/site-packages (from networkx>=2.2; python_version > \"3.5\"->qiskit-terra==0.14.1->qiskit) (4.4.1)\n",
      "Requirement already satisfied: attrs>=17.4.0 in /Users/kaol01/opt/anaconda3/lib/python3.7/site-packages (from jsonschema>=2.6->qiskit-terra==0.14.1->qiskit) (19.3.0)\n",
      "Requirement already satisfied: pyrsistent>=0.14.0 in /Users/kaol01/opt/anaconda3/lib/python3.7/site-packages (from jsonschema>=2.6->qiskit-terra==0.14.1->qiskit) (0.15.7)\n",
      "Requirement already satisfied: importlib-metadata; python_version < \"3.8\" in /Users/kaol01/opt/anaconda3/lib/python3.7/site-packages (from jsonschema>=2.6->qiskit-terra==0.14.1->qiskit) (1.5.0)\n",
      "Requirement already satisfied: six>=1.11.0 in /Users/kaol01/opt/anaconda3/lib/python3.7/site-packages (from jsonschema>=2.6->qiskit-terra==0.14.1->qiskit) (1.14.0)\n",
      "Requirement already satisfied: mpmath>=0.19 in /Users/kaol01/opt/anaconda3/lib/python3.7/site-packages (from sympy>=1.3->qiskit-terra==0.14.1->qiskit) (1.1.0)\n",
      "Requirement already satisfied: idna<2.9,>=2.5 in /Users/kaol01/opt/anaconda3/lib/python3.7/site-packages (from requests>=2.19->qiskit-ibmq-provider==0.7.1->qiskit) (2.8)\n",
      "Requirement already satisfied: chardet<3.1.0,>=3.0.2 in /Users/kaol01/opt/anaconda3/lib/python3.7/site-packages (from requests>=2.19->qiskit-ibmq-provider==0.7.1->qiskit) (3.0.4)\n",
      "Requirement already satisfied: certifi>=2017.4.17 in /Users/kaol01/opt/anaconda3/lib/python3.7/site-packages (from requests>=2.19->qiskit-ibmq-provider==0.7.1->qiskit) (2019.11.28)\n",
      "Requirement already satisfied: cryptography>=1.3 in /Users/kaol01/opt/anaconda3/lib/python3.7/site-packages (from requests-ntlm>=1.1.0->qiskit-ibmq-provider==0.7.1->qiskit) (2.8)\n",
      "Collecting ntlm-auth>=1.0.2\n",
      "  Using cached ntlm_auth-1.4.0-py2.py3-none-any.whl (29 kB)\n",
      "Requirement already satisfied: joblib>=0.11 in /Users/kaol01/opt/anaconda3/lib/python3.7/site-packages (from scikit-learn>=0.20.0->qiskit-aqua==0.7.1->qiskit) (0.14.1)\n",
      "Collecting inflection>=0.3.1\n",
      "  Using cached inflection-0.4.0-py2.py3-none-any.whl (5.8 kB)\n",
      "Requirement already satisfied: more-itertools in /Users/kaol01/opt/anaconda3/lib/python3.7/site-packages (from quandl->qiskit-aqua==0.7.1->qiskit) (8.2.0)\n",
      "Requirement already satisfied: pandas>=0.14 in /Users/kaol01/opt/anaconda3/lib/python3.7/site-packages (from quandl->qiskit-aqua==0.7.1->qiskit) (1.0.1)\n",
      "Requirement already satisfied: zipp>=0.5 in /Users/kaol01/opt/anaconda3/lib/python3.7/site-packages (from importlib-metadata; python_version < \"3.8\"->jsonschema>=2.6->qiskit-terra==0.14.1->qiskit) (2.2.0)\n",
      "Requirement already satisfied: cffi!=1.11.3,>=1.8 in /Users/kaol01/opt/anaconda3/lib/python3.7/site-packages (from cryptography>=1.3->requests-ntlm>=1.1.0->qiskit-ibmq-provider==0.7.1->qiskit) (1.14.0)\n",
      "Requirement already satisfied: pytz>=2017.2 in /Users/kaol01/opt/anaconda3/lib/python3.7/site-packages (from pandas>=0.14->quandl->qiskit-aqua==0.7.1->qiskit) (2018.5)\n",
      "Requirement already satisfied: pycparser in /Users/kaol01/opt/anaconda3/lib/python3.7/site-packages (from cffi!=1.11.3,>=1.8->cryptography>=1.3->requests-ntlm>=1.1.0->qiskit-ibmq-provider==0.7.1->qiskit) (2.19)\n",
      "Building wheels for collected packages: qiskit, docplex\n",
      "  Building wheel for qiskit (setup.py) ... \u001b[?25ldone\n",
      "\u001b[?25h  Created wheel for qiskit: filename=qiskit-0.19.2-py3-none-any.whl size=2893 sha256=86e48ef8cf2511ecfc6513a6592886cb934659df14c98b1d082600e809fc2894\n",
      "  Stored in directory: /Users/kaol01/Library/Caches/pip/wheels/cc/e3/a6/4d50009c5e82f21f640528aa8be8abd4404e72c6523d027d22\n",
      "  Building wheel for docplex (setup.py) ... \u001b[?25ldone\n",
      "\u001b[?25h  Created wheel for docplex: filename=docplex-2.14.186-py3-none-any.whl size=634441 sha256=9b4f4f1d8ffa39406f559d15e822368ca941ffb3528b3cdacb781e1a69b454c3\n",
      "  Stored in directory: /Users/kaol01/Library/Caches/pip/wheels/ea/9b/58/c97407d580f78207e949b179bf59a04f7d6ec70a1ad7b82962\n",
      "Successfully built qiskit docplex\n",
      "Installing collected packages: retworkx, fastjsonschema, python-constraint, marshmallow-polyfield, dill, qiskit-terra, qiskit-aer, websockets, ntlm-auth, requests-ntlm, nest-asyncio, qiskit-ibmq-provider, qiskit-ignis, pyscf, docplex, fastdtw, inflection, quandl, dlx, qiskit-aqua, qiskit\n",
      "Successfully installed dill-0.3.1.1 dlx-1.0.4 docplex-2.14.186 fastdtw-0.3.4 fastjsonschema-2.14.4 inflection-0.4.0 marshmallow-polyfield-5.9 nest-asyncio-1.3.3 ntlm-auth-1.4.0 pyscf-1.7.2 python-constraint-1.4.0 qiskit-0.19.2 qiskit-aer-0.5.1 qiskit-aqua-0.7.1 qiskit-ibmq-provider-0.7.1 qiskit-ignis-0.3.0 qiskit-terra-0.14.1 quandl-3.5.0 requests-ntlm-1.1.0 retworkx-0.3.4 websockets-7.0\n"
     ]
    }
   ],
   "source": [
    "!pip install qiskit"
   ]
  },
  {
   "cell_type": "code",
   "execution_count": 33,
   "metadata": {},
   "outputs": [],
   "source": [
    "from qiskit import QuantumCircuit, QuantumRegister, ClassicalRegister, execute, Aer, IBMQ, BasicAer\n",
    "import math\n",
    "## Uncomment the next line to see diagrams when running in a notebook\n",
    "%matplotlib inline"
   ]
  },
  {
   "cell_type": "code",
   "execution_count": 42,
   "metadata": {},
   "outputs": [],
   "source": [
    "## Example 2-1: Random bit\n",
    "# Set up the program\n",
    "reg = QuantumRegister(1, name='reg')\n",
    "reg_c = ClassicalRegister(1, name='regc')\n",
    "qc = QuantumCircuit(reg, reg_c)"
   ]
  },
  {
   "cell_type": "code",
   "execution_count": 43,
   "metadata": {},
   "outputs": [],
   "source": [
    "backend = BasicAer.get_backend('statevector_simulator')\n",
    "job = execute(qc, backend)\n",
    "result = job.result()"
   ]
  },
  {
   "cell_type": "code",
   "execution_count": 47,
   "metadata": {},
   "outputs": [
    {
     "name": "stdout",
     "output_type": "stream",
     "text": [
      "counts: {'0': 1}\n",
      "[1.+0.j 0.+0.j]\n"
     ]
    },
    {
     "data": {
      "text/html": [
       "<pre style=\"word-wrap: normal;white-space: pre;background: #fff0;line-height: 1.1;font-family: &quot;Courier New&quot;,Courier,monospace\">        \n",
       " reg_0: \n",
       "        \n",
       "regc_0: \n",
       "        </pre>"
      ],
      "text/plain": [
       "        \n",
       " reg_0: \n",
       "        \n",
       "regc_0: \n",
       "        "
      ]
     },
     "execution_count": 47,
     "metadata": {},
     "output_type": "execute_result"
    }
   ],
   "source": [
    "counts = result.get_counts(qc)\n",
    "print('counts:',counts)\n",
    "\n",
    "outputstate = result.get_statevector(qc, decimals=3)\n",
    "print(outputstate)\n",
    "qc.draw()        # draw the circuit"
   ]
  },
  {
   "cell_type": "code",
   "execution_count": null,
   "metadata": {},
   "outputs": [],
   "source": []
  },
  {
   "cell_type": "code",
   "execution_count": null,
   "metadata": {},
   "outputs": [],
   "source": []
  }
 ],
 "metadata": {
  "kernelspec": {
   "display_name": "Python 3",
   "language": "python",
   "name": "python3"
  },
  "language_info": {
   "codemirror_mode": {
    "name": "ipython",
    "version": 3
   },
   "file_extension": ".py",
   "mimetype": "text/x-python",
   "name": "python",
   "nbconvert_exporter": "python",
   "pygments_lexer": "ipython3",
   "version": "3.7.6"
  }
 },
 "nbformat": 4,
 "nbformat_minor": 4
}

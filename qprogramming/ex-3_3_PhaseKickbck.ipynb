{
 "cells": [
  {
   "cell_type": "code",
   "execution_count": 1,
   "metadata": {},
   "outputs": [
    {
     "data": {
      "text/plain": [
       "<qiskit.circuit.instructionset.InstructionSet at 0x7f338d98f290>"
      ]
     },
     "execution_count": 1,
     "metadata": {},
     "output_type": "execute_result"
    }
   ],
   "source": [
    "## Programming Quantum Computers\n",
    "##   by Eric Johnston, Nic Harrigan and Mercedes Gimeno-Segovia\n",
    "##   O'Reilly Media\n",
    "##\n",
    "## More samples like this can be found at http://oreilly-qc.github.io\n",
    "\n",
    "from qiskit import QuantumCircuit, QuantumRegister, ClassicalRegister, execute, Aer, IBMQ, BasicAer\n",
    "import math\n",
    "## Uncomment the next line to see diagrams when running in a notebook\n",
    "#%matplotlib inline\n",
    "\n",
    "## Example 3-3: Phase Kickback\n",
    "# Set up the program\n",
    "reg1 = QuantumRegister(2, name='reg1')\n",
    "reg2 = QuantumRegister(1, name='reg2')\n",
    "qc = QuantumCircuit(reg1, reg2)\n",
    "\n",
    "qc.h(reg1)         # put a into reg1 superposition of 0,1,2,3\n",
    "qc.cu1(math.pi/4, reg1[0], reg2)\n",
    "qc.cu1(math.pi/2, reg1[1], reg2)"
   ]
  },
  {
   "cell_type": "code",
   "execution_count": 4,
   "metadata": {},
   "outputs": [
    {
     "name": "stdout",
     "output_type": "stream",
     "text": [
      "[0.5+0.j 0.5-0.j 0.5+0.j 0.5-0.j 0. +0.j 0. +0.j 0. +0.j 0. +0.j]\n"
     ]
    },
    {
     "data": {
      "image/png": "[encoded data removed]",
      "text/plain": [
       "<Figure size 511.7x204.68 with 1 Axes>"
      ]
     },
     "execution_count": 4,
     "metadata": {},
     "output_type": "execute_result"
    }
   ],
   "source": [
    "backend = BasicAer.get_backend('statevector_simulator')\n",
    "job = execute(qc, backend)\n",
    "result = job.result()\n",
    "\n",
    "outputstate = result.get_statevector(qc, decimals=3)\n",
    "print(outputstate)\n",
    "qc.draw(output='mpl',justify='all')        # draw the circuit"
   ]
  },
  {
   "cell_type": "code",
   "execution_count": null,
   "metadata": {},
   "outputs": [],
   "source": []
  }
 ],
 "metadata": {
  "kernelspec": {
   "display_name": "Python 3",
   "language": "python",
   "name": "python3"
  },
  "language_info": {
   "codemirror_mode": {
    "name": "ipython",
    "version": 3
   },
   "file_extension": ".py",
   "mimetype": "text/x-python",
   "name": "python",
   "nbconvert_exporter": "python",
   "pygments_lexer": "ipython3",
   "version": "3.7.6"
  }
 },
 "nbformat": 4,
 "nbformat_minor": 4
}

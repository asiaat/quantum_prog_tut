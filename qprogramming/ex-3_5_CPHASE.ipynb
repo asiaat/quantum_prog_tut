{
 "cells": [
  {
   "cell_type": "code",
   "execution_count": 2,
   "metadata": {},
   "outputs": [
    {
     "name": "stdout",
     "output_type": "stream",
     "text": [
      "[ 0.5  +0.j    -0.354-0.354j  0.5  +0.j     0.354+0.354j]\n"
     ]
    },
    {
     "data": {
      "image/png": "[encoded data removed]",
      "text/plain": [
       "<Figure size 681.464x144.48 with 1 Axes>"
      ]
     },
     "execution_count": 2,
     "metadata": {},
     "output_type": "execute_result"
    }
   ],
   "source": [
    "## Programming Quantum Computers\n",
    "##   by Eric Johnston, Nic Harrigan and Mercedes Gimeno-Segovia\n",
    "##   O'Reilly Media\n",
    "##\n",
    "## More samples like this can be found at http://oreilly-qc.github.io\n",
    "\n",
    "from qiskit import QuantumCircuit, QuantumRegister, ClassicalRegister, execute, Aer, IBMQ, BasicAer\n",
    "import math\n",
    "## Uncomment the next line to see diagrams when running in a notebook\n",
    "#%matplotlib inline\n",
    "\n",
    "# Example 3-5: Custom conditional-phase\n",
    "# Set up the program\n",
    "reg = QuantumRegister(2, name='reg')\n",
    "qc = QuantumCircuit(reg)\n",
    "\n",
    "theta = math.pi / 2\n",
    "qc.h(reg)\n",
    "qc.rz(theta/2, reg[1])\n",
    "qc.cx(reg[0], reg[1])\n",
    "qc.rz(-theta/2, reg[1])\n",
    "qc.cx(reg[0], reg[1])\n",
    "qc.rz(-theta/2, reg[0])\n",
    "\n",
    "qc.barrier()\n",
    "\n",
    "qc.crz(theta, reg[0], reg[1])\n",
    "\n",
    "backend = BasicAer.get_backend('statevector_simulator')\n",
    "job = execute(qc, backend)\n",
    "result = job.result()\n",
    "\n",
    "outputstate = result.get_statevector(qc, decimals=3)\n",
    "print(outputstate)\n",
    "qc.draw(output='mpl',justify='all')   \n",
    "        # draw the circuit\n"
   ]
  },
  {
   "cell_type": "code",
   "execution_count": null,
   "metadata": {},
   "outputs": [],
   "source": []
  }
 ],
 "metadata": {
  "kernelspec": {
   "display_name": "Python 3",
   "language": "python",
   "name": "python3"
  },
  "language_info": {
   "codemirror_mode": {
    "name": "ipython",
    "version": 3
   },
   "file_extension": ".py",
   "mimetype": "text/x-python",
   "name": "python",
   "nbconvert_exporter": "python",
   "pygments_lexer": "ipython3",
   "version": "3.7.6"
  }
 },
 "nbformat": 4,
 "nbformat_minor": 4
}

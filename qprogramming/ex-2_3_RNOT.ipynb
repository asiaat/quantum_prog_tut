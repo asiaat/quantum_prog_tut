{
 "cells": [
  {
   "cell_type": "code",
   "execution_count": 1,
   "metadata": {},
   "outputs": [],
   "source": [
    "## Programming Quantum Computers\n",
    "##   by Eric Johnston, Nic Harrigan and Mercedes Gimeno-Segovia\n",
    "##   O'Reilly Media\n",
    "##\n",
    "## More samples like this can be found at http://oreilly-qc.github.io\n",
    "\n",
    "## This sample demonstrates root-of-not."
   ]
  },
  {
   "cell_type": "code",
   "execution_count": 2,
   "metadata": {},
   "outputs": [],
   "source": [
    "from qiskit import QuantumCircuit, QuantumRegister, ClassicalRegister, execute, Aer, IBMQ, BasicAer\n",
    "import math\n",
    "## Uncomment the next line to see diagrams when running in a notebook\n",
    "%matplotlib inline"
   ]
  },
  {
   "cell_type": "code",
   "execution_count": 3,
   "metadata": {},
   "outputs": [],
   "source": [
    "reg   = QuantumRegister(1, name='reg')\n",
    "reg_c = ClassicalRegister(1, name='regc')\n",
    "qc    = QuantumCircuit(reg, reg_c)"
   ]
  },
  {
   "cell_type": "code",
   "execution_count": 13,
   "metadata": {},
   "outputs": [
    {
     "data": {
      "text/plain": [
       "<qiskit.circuit.instructionset.InstructionSet at 0x1a1f0ed7d0>"
      ]
     },
     "execution_count": 13,
     "metadata": {},
     "output_type": "execute_result"
    }
   ],
   "source": [
    "qc.reset(reg)          # write the value 0\n",
    "\n",
    "# One root-of-not gate\n",
    "qc.h(reg)\n",
    "qc.rz(math.radians(-90), reg)\n",
    "qc.h(reg)\n",
    "qc.barrier()"
   ]
  },
  {
   "cell_type": "code",
   "execution_count": 14,
   "metadata": {},
   "outputs": [
    {
     "data": {
      "text/plain": [
       "<qiskit.circuit.instructionset.InstructionSet at 0x1a1f0edd50>"
      ]
     },
     "execution_count": 14,
     "metadata": {},
     "output_type": "execute_result"
    }
   ],
   "source": [
    "\n",
    "# One root-of-not gate\n",
    "qc.h(reg)\n",
    "qc.rz(math.radians(-90), reg)\n",
    "qc.h(reg)\n",
    "qc.barrier()"
   ]
  },
  {
   "cell_type": "code",
   "execution_count": 15,
   "metadata": {},
   "outputs": [],
   "source": [
    "qc.measure_all()"
   ]
  },
  {
   "cell_type": "code",
   "execution_count": 19,
   "metadata": {},
   "outputs": [
    {
     "name": "stdout",
     "output_type": "stream",
     "text": [
      "[ 0.+0.j -1.+0.j]\n"
     ]
    }
   ],
   "source": [
    "backend = BasicAer.get_backend('statevector_simulator')\n",
    "job = execute(qc, backend)\n",
    "result = job.result()\n",
    "outputstate = result.get_statevector(qc, decimals=3)\n",
    "print(outputstate)"
   ]
  },
  {
   "cell_type": "code",
   "execution_count": 17,
   "metadata": {},
   "outputs": [
    {
     "data": {
      "text/html": [
       "<pre style=\"word-wrap: normal;white-space: pre;background: #fff0;line-height: 1.1;font-family: &quot;Courier New&quot;,Courier,monospace\">              ┌───┐┌───────────┐┌───┐ ░ ┌───┐┌───────────┐┌───┐ ░  ░ ┌─┐     »\n",
       "  reg_0: ─|0>─┤ H ├┤ RZ(-pi/2) ├┤ H ├─░─┤ H ├┤ RZ(-pi/2) ├┤ H ├─░──░─┤M├─|0>─»\n",
       "              └───┘└───────────┘└───┘ ░ └───┘└───────────┘└───┘ ░  ░ └╥┘     »\n",
       " regc_0: ═════════════════════════════════════════════════════════════╬══════»\n",
       "                                                                      ║      »\n",
       " meas_0: ═════════════════════════════════════════════════════════════╩══════»\n",
       "                                                                             »\n",
       "meas0_0: ════════════════════════════════════════════════════════════════════»\n",
       "                                                                             »\n",
       "«         ┌───┐┌───────────┐┌───┐ ░ ┌───┐┌───────────┐┌───┐ ░  ░ ┌─┐\n",
       "«  reg_0: ┤ H ├┤ RZ(-pi/2) ├┤ H ├─░─┤ H ├┤ RZ(-pi/2) ├┤ H ├─░──░─┤M├\n",
       "«         └───┘└───────────┘└───┘ ░ └───┘└───────────┘└───┘ ░  ░ └╥┘\n",
       "« regc_0: ════════════════════════════════════════════════════════╬═\n",
       "«                                                                 ║ \n",
       "« meas_0: ════════════════════════════════════════════════════════╬═\n",
       "«                                                                 ║ \n",
       "«meas0_0: ════════════════════════════════════════════════════════╩═\n",
       "«                                                                   </pre>"
      ],
      "text/plain": [
       "              ┌───┐┌───────────┐┌───┐ ░ ┌───┐┌───────────┐┌───┐ ░  ░ ┌─┐     »\n",
       "  reg_0: ─|0>─┤ H ├┤ RZ(-pi/2) ├┤ H ├─░─┤ H ├┤ RZ(-pi/2) ├┤ H ├─░──░─┤M├─|0>─»\n",
       "              └───┘└───────────┘└───┘ ░ └───┘└───────────┘└───┘ ░  ░ └╥┘     »\n",
       " regc_0: ═════════════════════════════════════════════════════════════╬══════»\n",
       "                                                                      ║      »\n",
       " meas_0: ═════════════════════════════════════════════════════════════╩══════»\n",
       "                                                                             »\n",
       "meas0_0: ════════════════════════════════════════════════════════════════════»\n",
       "                                                                             »\n",
       "«         ┌───┐┌───────────┐┌───┐ ░ ┌───┐┌───────────┐┌───┐ ░  ░ ┌─┐\n",
       "«  reg_0: ┤ H ├┤ RZ(-pi/2) ├┤ H ├─░─┤ H ├┤ RZ(-pi/2) ├┤ H ├─░──░─┤M├\n",
       "«         └───┘└───────────┘└───┘ ░ └───┘└───────────┘└───┘ ░  ░ └╥┘\n",
       "« regc_0: ════════════════════════════════════════════════════════╬═\n",
       "«                                                                 ║ \n",
       "« meas_0: ════════════════════════════════════════════════════════╬═\n",
       "«                                                                 ║ \n",
       "«meas0_0: ════════════════════════════════════════════════════════╩═\n",
       "«                                                                   "
      ]
     },
     "execution_count": 17,
     "metadata": {},
     "output_type": "execute_result"
    }
   ],
   "source": [
    "qc.draw()"
   ]
  },
  {
   "cell_type": "code",
   "execution_count": null,
   "metadata": {},
   "outputs": [],
   "source": []
  },
  {
   "cell_type": "code",
   "execution_count": null,
   "metadata": {},
   "outputs": [],
   "source": []
  },
  {
   "cell_type": "code",
   "execution_count": null,
   "metadata": {},
   "outputs": [],
   "source": []
  }
 ],
 "metadata": {
  "kernelspec": {
   "display_name": "Python 3",
   "language": "python",
   "name": "python3"
  },
  "language_info": {
   "codemirror_mode": {
    "name": "ipython",
    "version": 3
   },
   "file_extension": ".py",
   "mimetype": "text/x-python",
   "name": "python",
   "nbconvert_exporter": "python",
   "pygments_lexer": "ipython3",
   "version": "3.7.6"
  }
 },
 "nbformat": 4,
 "nbformat_minor": 4
}

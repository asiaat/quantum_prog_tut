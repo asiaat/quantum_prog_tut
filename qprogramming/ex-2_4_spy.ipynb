{
 "cells": [
  {
   "cell_type": "code",
   "execution_count": 12,
   "metadata": {},
   "outputs": [],
   "source": [
    "## Programming Quantum Computers\n",
    "##   by Eric Johnston, Nic Harrigan and Mercedes Gimeno-Segovia\n",
    "##   O'Reilly Media\n",
    "##\n",
    "## More samples like this can be found at http://oreilly-qc.github.io\n",
    "\n",
    "from qiskit import QuantumCircuit, QuantumRegister, ClassicalRegister, execute, Aer, IBMQ, BasicAer\n",
    "import math\n",
    "## Uncomment the next line to see diagrams when running in a notebook\n",
    "#%matplotlib inline\n"
   ]
  },
  {
   "cell_type": "code",
   "execution_count": 33,
   "metadata": {},
   "outputs": [],
   "source": [
    "## Example 2-4: Quasntum Spy Hunter\n",
    "# Set up the program\n",
    "alice = QuantumRegister(1, name='alice')\n",
    "fiber = QuantumRegister(1, name='fiber')\n",
    "bob   = QuantumRegister(1, name='bob')\n",
    "alice_had = ClassicalRegister(1, name='ahad')\n",
    "alice_val = ClassicalRegister(1, name='aval')\n",
    "fiber_val = ClassicalRegister(1, name='fval')\n",
    "bob_had   = ClassicalRegister(1, name='bhad')\n",
    "bob_val   = ClassicalRegister(1, name='bval')\n",
    "qc = QuantumCircuit(alice, fiber, bob, alice_had, alice_val, fiber_val, bob_had, bob_val)"
   ]
  },
  {
   "cell_type": "code",
   "execution_count": 34,
   "metadata": {},
   "outputs": [
    {
     "name": "stdout",
     "output_type": "stream",
     "text": [
      "ClassicalRegister(1, 'ahad')\n"
     ]
    }
   ],
   "source": [
    "# Use Alice's QPU to generate two random bits\n",
    "qc.reset(alice)          # write the value 0\n",
    "qc.h(alice)\n",
    "qc.measure(alice, alice_had)\n",
    "print(alice_had)"
   ]
  },
  {
   "cell_type": "code",
   "execution_count": 35,
   "metadata": {},
   "outputs": [
    {
     "name": "stdout",
     "output_type": "stream",
     "text": [
      "ClassicalRegister(1, 'aval')\n"
     ]
    }
   ],
   "source": [
    "qc.reset(alice)          # write the value 0\n",
    "qc.h(alice)\n",
    "qc.measure(alice, alice_val)\n",
    "\n",
    "\n",
    "print(alice_val)"
   ]
  },
  {
   "cell_type": "code",
   "execution_count": 62,
   "metadata": {},
   "outputs": [
    {
     "data": {
      "text/plain": [
       "<qiskit.circuit.instructionset.InstructionSet at 0x7f66ad9d4290>"
      ]
     },
     "execution_count": 62,
     "metadata": {},
     "output_type": "execute_result"
    }
   ],
   "source": [
    "\n",
    "\n",
    "# Prepare Alice's qubit\n",
    "qc.reset(alice)          # write the value 0\n",
    "qc.x(alice).c_if(alice_val, 1)\n",
    "qc.h(alice).c_if(alice_had, 1)\n",
    "\n",
    "# Send the qubit!\n",
    "qc.swap(alice, fiber)\n",
    "\n",
    "# Activate the spy\n",
    "spy_is_present = True\n",
    "if spy_is_present:\n",
    "    qc.barrier()\n",
    "    spy_had = True\n",
    "    if spy_had:\n",
    "        qc.h(fiber)\n",
    "    qc.measure(fiber, fiber_val)\n",
    "    qc.reset(fiber)\n",
    "    qc.x(fiber).c_if(fiber_val, 1)\n",
    "    if spy_had:\n",
    "        qc.h(fiber)\n",
    "\n",
    "qc.barrier()\n",
    "\n",
    "# Use Bob's QPU to generate a random bit\n",
    "qc.reset(bob)\n",
    "qc.h(bob)\n",
    "qc.measure(bob, bob_had)\n",
    "\n",
    "# Receive the qubit!\n",
    "qc.swap(fiber, bob)\n",
    "qc.h(bob).c_if(bob_had, 1)\n",
    "qc.measure(bob, bob_val)\n"
   ]
  },
  {
   "cell_type": "code",
   "execution_count": 69,
   "metadata": {},
   "outputs": [
    {
     "name": "stdout",
     "output_type": "stream",
     "text": [
      "counts: {'1 1 1 0 0': 1}\n"
     ]
    }
   ],
   "source": [
    "backend = BasicAer.get_backend('statevector_simulator')\n",
    "job = execute(qc, backend)\n",
    "result = job.result()\n",
    "counts = result.get_counts(qc)\n",
    "print('counts:',counts)"
   ]
  },
  {
   "cell_type": "code",
   "execution_count": 70,
   "metadata": {},
   "outputs": [
    {
     "name": "stdout",
     "output_type": "stream",
     "text": [
      "No spies detected.\n",
      "[0.+0.j 0.+0.j 0.+0.j 0.+0.j 0.+0.j 0.+0.j 1.-0.j 0.+0.j]\n"
     ]
    }
   ],
   "source": [
    "# Now Alice emails Bob to tell\n",
    "# him her had setting and value.\n",
    "# If the had setting matches and the\n",
    "# value does not, there's a spy!\n",
    "\n",
    "caught = False\n",
    "for key,val in counts.items():\n",
    "    ahad,aval,f,bhad,bval = (int(x) for x in key.split(' '))\n",
    "    if ahad == bhad:\n",
    "        if aval != bval:\n",
    "            print('Caught a spy!')\n",
    "            caught = True\n",
    "if not caught:\n",
    "    #print(\"ahad\")\n",
    "    print('No spies detected.')\n",
    "\n",
    "outputstate = result.get_statevector(qc, decimals=3)\n",
    "print(outputstate)\n"
   ]
  },
  {
   "cell_type": "code",
   "execution_count": 71,
   "metadata": {},
   "outputs": [
    {
     "name": "stdout",
     "output_type": "stream",
     "text": [
      "Caught a spy!\n"
     ]
    }
   ],
   "source": [
    "\n",
    "isSpy = True\n",
    "for key,val in counts.items():\n",
    "    ahad,aval,f,bhad,bval = (int(x) for x in key.split(' '))\n",
    "    \n",
    "    if (ahad == bhad) and (aval == bval):\n",
    "        isSpy = False\n",
    "    \n",
    "        \n",
    "if not isSpy:\n",
    "      print('No spies detected.')\n",
    "else:\n",
    "    print('Caught a spy!')\n",
    "    "
   ]
  },
  {
   "cell_type": "code",
   "execution_count": null,
   "metadata": {},
   "outputs": [],
   "source": [
    "qc.draw()"
   ]
  },
  {
   "cell_type": "code",
   "execution_count": null,
   "metadata": {},
   "outputs": [],
   "source": []
  },
  {
   "cell_type": "code",
   "execution_count": null,
   "metadata": {},
   "outputs": [],
   "source": []
  }
 ],
 "metadata": {
  "kernelspec": {
   "display_name": "Python 3",
   "language": "python",
   "name": "python3"
  },
  "language_info": {
   "codemirror_mode": {
    "name": "ipython",
    "version": 3
   },
   "file_extension": ".py",
   "mimetype": "text/x-python",
   "name": "python",
   "nbconvert_exporter": "python",
   "pygments_lexer": "ipython3",
   "version": "3.7.6"
  }
 },
 "nbformat": 4,
 "nbformat_minor": 4
}
